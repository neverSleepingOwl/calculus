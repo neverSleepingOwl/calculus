{
 "cells": [
  {
   "cell_type": "code",
   "execution_count": 20,
   "metadata": {},
   "outputs": [],
   "source": [
    "from IPython.display import Latex\n",
    "from math import sin,cos, atan, pi, log10, sqrt, tan\n",
    "import pandas as pd\n",
    "from matplotlib import pyplot as plt\n",
    "from functools import reduce"
   ]
  },
  {
   "cell_type": "code",
   "execution_count": 21,
   "metadata": {},
   "outputs": [],
   "source": [
    "def f(x):\n",
    "    return 1 / (2 + x ** 3)"
   ]
  },
  {
   "cell_type": "code",
   "execution_count": 22,
   "metadata": {},
   "outputs": [],
   "source": [
    "def get_interpolation_net(a, b, step):\n",
    "    count = int((b - a) / step)\n",
    "    return [a + (b - a) * i / count for i in range(count+1)]\n",
    "\n",
    "def get_check_net(interpolation_net):\n",
    "    check_net = []\n",
    "    for i, _ in enumerate(interpolation_net):\n",
    "        if i == len(interpolation_net) - 1:\n",
    "            break\n",
    "        check_net.append(interpolation_net[i] + (interpolation_net[i+1] - interpolation_net[i]) / 2)\n",
    "    return check_net\n",
    "\n",
    "def rectangle(f, a, b, step):\n",
    "    x_arr = get_check_net(get_interpolation_net(a, b, step))\n",
    "    return sum(map(lambda x: step*x, map(f, x_arr)))bv"
   ]
  },
  {
   "cell_type": "code",
   "execution_count": 23,
   "metadata": {},
   "outputs": [],
   "source": [
    "def elem_trapezio(a, b, step):\n",
    "    return (f(b) + f(a)) / 2 * step\n",
    "\n",
    "def trapezio(f, a, b, step):\n",
    "    x_arr = get_interpolation_net(a, b, step)\n",
    "    arr = []\n",
    "    for i, _ in enumerate(x_arr):\n",
    "        if i + 1 >= len(x_arr):\n",
    "            break\n",
    "        arr.append(elem_trapezio(x_arr[i], x_arr[i+1], step))\n",
    "    return sum(arr)"
   ]
  },
  {
   "cell_type": "code",
   "execution_count": 24,
   "metadata": {},
   "outputs": [],
   "source": [
    "def elem_gauss(a,b,step):\n",
    "    f_ = (b - a) / 2\n",
    "    x1 = (b - a) / sqrt(3)\n",
    "    x2 =  (a + b) / 2\n",
    "    f_ *= (f(x2 - x1) + f(x2 + x1))\n",
    "    \n",
    "def gauss(f, a, b, step):\n",
    "    x_arr = get_interpolation_net(a, b, step)\n",
    "    arr = []\n",
    "    for i, _ in enumerate(x_arr):\n",
    "        if i + 1 >= len(x_arr):\n",
    "            break\n",
    "        arr.append(elem_gauss(x_arr[i], x_arr[i+1], step))\n",
    "    return sum(arr)"
   ]
  },
  {
   "cell_type": "code",
   "execution_count": 25,
   "metadata": {},
   "outputs": [],
   "source": [
    "def elem_simpson(a, b):\n",
    "    return (b - a) / 6 * (f(a) + 4 * f((a + b) / 2) + f(b))\n",
    "    \n",
    "def simpson(f, a, b, step):\n",
    "    x_arr = get_interpolation_net(a, b, step)\n",
    "    arr = []\n",
    "    for i, _ in enumerate(x_arr):\n",
    "        if i + 1 >= len(x_arr):\n",
    "            break\n",
    "        arr.append(elem_simpson(x_arr[i], x_arr[i+1]))\n",
    "    return sum(arr)"
   ]
  },
  {
   "cell_type": "code",
   "execution_count": 26,
   "metadata": {},
   "outputs": [],
   "source": [
    "def integral(x):\n",
    "    first = -1 * log10(2 ** (1 / 3) * x ** 2 - 2 ** (2 / 3) * x + 2)\n",
    "    second = 2 * log10(2 ** (2 / 3)) * x + 2\n",
    "    third = 2 * sqrt(3) * tan((2 ** (2 / 3) * x - 1) / sqrt(3))\n",
    "    return (first + second + third) / (6 * 2 ** (2/3))\n",
    "\n",
    "def get_integr(a, b):\n",
    "    return integral(b) - integral(a)"
   ]
  },
  {
   "cell_type": "code",
   "execution_count": 27,
   "metadata": {},
   "outputs": [],
   "source": [
    "def get_df(a, b, steps):\n",
    "    integr = 1.04154\n",
    "    simps = [abs(integr - simpson(f, a, b, step)) for step in steps]\n",
    "    trap = [abs(integr - trapezio(f, a, b, step)) for step in steps]\n",
    "    rect = [abs(integr - rectangle(f, a, b, step)) for step in steps]\n",
    "    gauss = [abs(integr - simpson(f, a, b, step)) for step in steps]\n",
    "    print(integr)\n",
    "    return pd.DataFrame(data={'simpson': simps, 'trapezio': trap,\n",
    "                              'rectangle': rect, 'steps': steps, 'gauss': gauss}, columns=['simpson', 'trapezio', 'rectangle', 'steps', 'gauss'])"
   ]
  },
  {
   "cell_type": "code",
   "execution_count": 28,
   "metadata": {},
   "outputs": [
    {
     "name": "stdout",
     "output_type": "stream",
     "text": [
      "1.04154\n"
     ]
    },
    {
     "data": {
      "text/html": [
       "<div>\n",
       "<style scoped>\n",
       "    .dataframe tbody tr th:only-of-type {\n",
       "        vertical-align: middle;\n",
       "    }\n",
       "\n",
       "    .dataframe tbody tr th {\n",
       "        vertical-align: top;\n",
       "    }\n",
       "\n",
       "    .dataframe thead th {\n",
       "        text-align: right;\n",
       "    }\n",
       "</style>\n",
       "<table border=\"1\" class=\"dataframe\">\n",
       "  <thead>\n",
       "    <tr style=\"text-align: right;\">\n",
       "      <th></th>\n",
       "      <th>simpson</th>\n",
       "      <th>trapezio</th>\n",
       "      <th>rectangle</th>\n",
       "      <th>steps</th>\n",
       "      <th>gauss</th>\n",
       "    </tr>\n",
       "  </thead>\n",
       "  <tbody>\n",
       "    <tr>\n",
       "      <th>0</th>\n",
       "      <td>1.662993e-02</td>\n",
       "      <td>1.251267e-01</td>\n",
       "      <td>3.761843e-02</td>\n",
       "      <td>1.0000</td>\n",
       "      <td>1.662993e-02</td>\n",
       "    </tr>\n",
       "    <tr>\n",
       "      <th>1</th>\n",
       "      <td>9.413029e-06</td>\n",
       "      <td>2.186585e-03</td>\n",
       "      <td>1.079173e-03</td>\n",
       "      <td>0.1000</td>\n",
       "      <td>9.413029e-06</td>\n",
       "    </tr>\n",
       "    <tr>\n",
       "      <th>2</th>\n",
       "      <td>5.182556e-07</td>\n",
       "      <td>2.273567e-05</td>\n",
       "      <td>1.059045e-05</td>\n",
       "      <td>0.0100</td>\n",
       "      <td>5.182556e-07</td>\n",
       "    </tr>\n",
       "    <tr>\n",
       "      <th>3</th>\n",
       "      <td>5.172936e-07</td>\n",
       "      <td>7.395153e-07</td>\n",
       "      <td>4.061827e-07</td>\n",
       "      <td>0.0010</td>\n",
       "      <td>5.172936e-07</td>\n",
       "    </tr>\n",
       "    <tr>\n",
       "      <th>4</th>\n",
       "      <td>5.172935e-07</td>\n",
       "      <td>5.195157e-07</td>\n",
       "      <td>5.161824e-07</td>\n",
       "      <td>0.0001</td>\n",
       "      <td>5.172935e-07</td>\n",
       "    </tr>\n",
       "  </tbody>\n",
       "</table>\n",
       "</div>"
      ],
      "text/plain": [
       "        simpson      trapezio     rectangle   steps         gauss\n",
       "0  1.662993e-02  1.251267e-01  3.761843e-02  1.0000  1.662993e-02\n",
       "1  9.413029e-06  2.186585e-03  1.079173e-03  0.1000  9.413029e-06\n",
       "2  5.182556e-07  2.273567e-05  1.059045e-05  0.0100  5.182556e-07\n",
       "3  5.172936e-07  7.395153e-07  4.061827e-07  0.0010  5.172936e-07\n",
       "4  5.172935e-07  5.195157e-07  5.161824e-07  0.0001  5.172935e-07"
      ]
     },
     "execution_count": 28,
     "metadata": {},
     "output_type": "execute_result"
    }
   ],
   "source": [
    "df = get_df(-1, 1, [10 ** (-i) for i in range(5)])\n",
    "df"
   ]
  },
  {
   "cell_type": "code",
   "execution_count": 29,
   "metadata": {},
   "outputs": [
    {
     "data": {
      "image/png": "[encoded data removed]",
      "text/plain": [
       "<Figure size 432x288 with 1 Axes>"
      ]
     },
     "metadata": {
      "needs_background": "light"
     },
     "output_type": "display_data"
    },
    {
     "data": {
      "image/png": "[encoded data removed]",
      "text/plain": [
       "<Figure size 432x288 with 1 Axes>"
      ]
     },
     "metadata": {
      "needs_background": "light"
     },
     "output_type": "display_data"
    },
    {
     "data": {
      "image/png": "[encoded data removed]",
      "text/plain": [
       "<Figure size 432x288 with 1 Axes>"
      ]
     },
     "metadata": {
      "needs_background": "light"
     },
     "output_type": "display_data"
    },
    {
     "data": {
      "image/png": "[encoded data removed]",
      "text/plain": [
       "<Figure size 432x288 with 1 Axes>"
      ]
     },
     "metadata": {
      "needs_background": "light"
     },
     "output_type": "display_data"
    }
   ],
   "source": [
    "h = df['steps']\n",
    "plt.xscale('log')\n",
    "plt.yscale('log')\n",
    "plt.title(\"rectangle\")\n",
    "plt.figure(1)\n",
    "plt.plot(\n",
    "    h,\n",
    "    df[\"rectangle\"],\n",
    "    'b',\n",
    ")\n",
    "\n",
    "plt.figure(2)\n",
    "plt.plot(\n",
    "    h,\n",
    "    df[\"trapezio\"],\n",
    "    'b',\n",
    ")\n",
    "plt.xscale('log')\n",
    "plt.yscale('log')\n",
    "plt.title(\"trapezio\")\n",
    "plt.grid(True)\n",
    "plt.figure(3)\n",
    "plt.plot(\n",
    "    h,\n",
    "    df['simpson'],\n",
    "    'b',\n",
    ")\n",
    "plt.xscale('log')\n",
    "plt.yscale('log')\n",
    "plt.title(\"simpson\")\n",
    "plt.grid(True)\n",
    "plt.figure(4)\n",
    "plt.plot(\n",
    "    h,\n",
    "    df['gauss'],\n",
    "    'b',\n",
    ")\n",
    "plt.xscale('log')\n",
    "plt.yscale('log')\n",
    "plt.title(\"gauss\")\n",
    "plt.grid(True)"
   ]
  },
  {
   "cell_type": "code",
   "execution_count": 32,
   "metadata": {},
   "outputs": [
    {
     "name": "stdout",
     "output_type": "stream",
     "text": [
      "simpson      0.000009\n",
      "trapezio     0.002187\n",
      "rectangle    0.001079\n",
      "steps        0.100000\n",
      "gauss        0.000009\n",
      "Name: 1, dtype: float64\n"
     ]
    }
   ],
   "source": [
    "print(df.T[1])"
   ]
  },
  {
   "cell_type": "code",
   "execution_count": null,
   "metadata": {},
   "outputs": [],
   "source": []
  }
 ],
 "metadata": {
  "kernelspec": {
   "display_name": "Python 3",
   "language": "python",
   "name": "python3"
  },
  "language_info": {
   "codemirror_mode": {
    "name": "ipython",
    "version": 3
   },
   "file_extension": ".py",
   "mimetype": "text/x-python",
   "name": "python",
   "nbconvert_exporter": "python",
   "pygments_lexer": "ipython3",
   "version": "3.6.6"
  }
 },
 "nbformat": 4,
 "nbformat_minor": 2
}
