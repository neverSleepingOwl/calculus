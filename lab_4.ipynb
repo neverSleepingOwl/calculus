{
 "cells": [
  {
   "cell_type": "code",
   "execution_count": 53,
   "metadata": {},
   "outputs": [],
   "source": [
    "from IPython.display import Latex\n",
    "from math import sin,cos, atan, pi, log10, sqrt, tan, tanh, sinh, cosh\n",
    "import pandas as pd\n",
    "from matplotlib import pyplot as plt\n",
    "from functools import reduce\n",
    "\n",
    "\n",
    "def dihotomi(f, a, b, eps):\n",
    "    c = (a + b) / 2\n",
    "    while abs(f(c)) > eps:\n",
    "        if f(c) * f(a) < 0:\n",
    "            b = c\n",
    "        if f(c) * f(b) < 0:\n",
    "            a = c\n",
    "        c = (a + b) / 2\n",
    "    return c"
   ]
  },
  {
   "cell_type": "code",
   "execution_count": 54,
   "metadata": {},
   "outputs": [],
   "source": [
    "def f(x):\n",
    "    return tan(tanh(x)) - sinh(cos(x/2)) - 1"
   ]
  },
  {
   "cell_type": "code",
   "execution_count": 55,
   "metadata": {},
   "outputs": [],
   "source": [
    "eps = [10 ** -3 , 10 ** -6, 10 ** -9]\n",
    "a,b = 0, 10"
   ]
  },
  {
   "cell_type": "code",
   "execution_count": 56,
   "metadata": {},
   "outputs": [],
   "source": [
    "def df(x):\n",
    "    return 1 / cos(tanh(x)) ** 2 * 1 / cosh(x) ** 2 - cosh(cos(x/2)) * (-sin(x/2))/2"
   ]
  },
  {
   "cell_type": "code",
   "execution_count": 57,
   "metadata": {},
   "outputs": [],
   "source": [
    "def get_interpolation_net(a, b, step):\n",
    "    count = int((b - a) / step)\n",
    "    return [a + (b - a) * i / count for i in range(count+1)]\n",
    "net = get_interpolation_net(0, 10, 0.1)\n",
    "c = [f(i) for i in net]"
   ]
  },
  {
   "cell_type": "code",
   "execution_count": 76,
   "metadata": {},
   "outputs": [],
   "source": [
    "def newton(f, x0, eps):\n",
    "    x = x0\n",
    "    while abs(f(x)) > eps:\n",
    "        x = x - f(x)/df(x)\n",
    "    return x\n",
    "\n",
    "def secant(f, x0, x1, eps):\n",
    "    x = x1\n",
    "    x_1 = x0\n",
    "    while abs(f(x)) > eps:\n",
    "        df = (f(x) - f(x_1)) / (x - x_1)\n",
    "        x_1 = x\n",
    "        x = x - f(x) / df\n",
    "    return x\n",
    "\n",
    "def secant_speed(f, x0, x1, eps):\n",
    "    x = x1\n",
    "    x_1 = x0\n",
    "    speeds = []\n",
    "    while abs(f(x)) > eps:\n",
    "        speed = log10(abs(x - 2.1876)) / log10(abs(x_1 - 2.1876))\n",
    "        speeds.append(speed)\n",
    "        df = (f(x) - f(x_1)) / (x - x_1)\n",
    "        x_1 = x\n",
    "        x = x - f(x) / df\n",
    "    return speeds"
   ]
  },
  {
   "cell_type": "code",
   "execution_count": 77,
   "metadata": {},
   "outputs": [],
   "source": [
    "def get_df():\n",
    "    return pd.DataFrame(\n",
    "        data={\n",
    "            'newton': list(map(lambda x: newton(f, 5, x), eps)),\n",
    "            'dihotomi': list(map(lambda x: dihotomi(f, 0, 10, x), eps)),\n",
    "            'secant': list(map(lambda x: secant(f, 5, 5.5, x), eps))\n",
    "        }\n",
    "    )"
   ]
  },
  {
   "cell_type": "code",
   "execution_count": 78,
   "metadata": {},
   "outputs": [
    {
     "data": {
      "text/html": [
       "<div>\n",
       "<style scoped>\n",
       "    .dataframe tbody tr th:only-of-type {\n",
       "        vertical-align: middle;\n",
       "    }\n",
       "\n",
       "    .dataframe tbody tr th {\n",
       "        vertical-align: top;\n",
       "    }\n",
       "\n",
       "    .dataframe thead th {\n",
       "        text-align: right;\n",
       "    }\n",
       "</style>\n",
       "<table border=\"1\" class=\"dataframe\">\n",
       "  <thead>\n",
       "    <tr style=\"text-align: right;\">\n",
       "      <th></th>\n",
       "      <th>newton</th>\n",
       "      <th>dihotomi</th>\n",
       "      <th>secant</th>\n",
       "    </tr>\n",
       "  </thead>\n",
       "  <tbody>\n",
       "    <tr>\n",
       "      <th>0</th>\n",
       "      <td>2.187597</td>\n",
       "      <td>2.1875</td>\n",
       "      <td>2.188233</td>\n",
       "    </tr>\n",
       "    <tr>\n",
       "      <th>1</th>\n",
       "      <td>2.187600</td>\n",
       "      <td>2.1876</td>\n",
       "      <td>2.187600</td>\n",
       "    </tr>\n",
       "    <tr>\n",
       "      <th>2</th>\n",
       "      <td>2.187600</td>\n",
       "      <td>2.1876</td>\n",
       "      <td>2.187600</td>\n",
       "    </tr>\n",
       "  </tbody>\n",
       "</table>\n",
       "</div>"
      ],
      "text/plain": [
       "     newton  dihotomi    secant\n",
       "0  2.187597    2.1875  2.188233\n",
       "1  2.187600    2.1876  2.187600\n",
       "2  2.187600    2.1876  2.187600"
      ]
     },
     "execution_count": 78,
     "metadata": {},
     "output_type": "execute_result"
    }
   ],
   "source": [
    "get_df()"
   ]
  },
  {
   "cell_type": "code",
   "execution_count": 79,
   "metadata": {},
   "outputs": [
    {
     "data": {
      "text/plain": [
       "[1.158248301696735,\n",
       " 0.2737873912471611,\n",
       " -1.1638768767180183,\n",
       " 4.377478703864705,\n",
       " 2.390896800574427]"
      ]
     },
     "execution_count": 79,
     "metadata": {},
     "output_type": "execute_result"
    }
   ],
   "source": [
    "secant_speed(f, 5, 5.5, 10 ** -3)"
   ]
  },
  {
   "cell_type": "code",
   "execution_count": 80,
   "metadata": {},
   "outputs": [
    {
     "data": {
      "text/plain": [
       "[1.158248301696735,\n",
       " 0.2737873912471611,\n",
       " -1.1638768767180183,\n",
       " 4.377478703864705,\n",
       " 2.390896800574427,\n",
       " 1.8440635067354858,\n",
       " 1.739341964794634]"
      ]
     },
     "execution_count": 80,
     "metadata": {},
     "output_type": "execute_result"
    }
   ],
   "source": [
    "secant_speed(f, 5, 5.5, 10 ** -6)"
   ]
  },
  {
   "cell_type": "code",
   "execution_count": 81,
   "metadata": {},
   "outputs": [
    {
     "data": {
      "text/plain": [
       "[1.158248301696735,\n",
       " 0.2737873912471611,\n",
       " -1.1638768767180183,\n",
       " 4.377478703864705,\n",
       " 2.390896800574427,\n",
       " 1.8440635067354858,\n",
       " 1.739341964794634]"
      ]
     },
     "execution_count": 81,
     "metadata": {},
     "output_type": "execute_result"
    }
   ],
   "source": [
    "secant_speed(f, 5, 5.5, 10 ** -9)"
   ]
  },
  {
   "cell_type": "code",
   "execution_count": null,
   "metadata": {},
   "outputs": [],
   "source": []
  }
 ],
 "metadata": {
  "kernelspec": {
   "display_name": "Python 3",
   "language": "python",
   "name": "python3"
  },
  "language_info": {
   "codemirror_mode": {
    "name": "ipython",
    "version": 3
   },
   "file_extension": ".py",
   "mimetype": "text/x-python",
   "name": "python",
   "nbconvert_exporter": "python",
   "pygments_lexer": "ipython3",
   "version": "3.6.6"
  }
 },
 "nbformat": 4,
 "nbformat_minor": 2
}
