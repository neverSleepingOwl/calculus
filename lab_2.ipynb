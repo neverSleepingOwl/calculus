{
 "cells": [
  {
   "cell_type": "markdown",
   "metadata": {},
   "source": [
    "***Численное дифференцирование***"
   ]
  },
  {
   "cell_type": "code",
   "execution_count": 13,
   "metadata": {},
   "outputs": [],
   "source": [
    "from IPython.display import Latex\n",
    "from math import sin,cos, atan, pi\n",
    "import pandas as pd\n",
    "from matplotlib import pyplot as plt"
   ]
  },
  {
   "cell_type": "markdown",
   "metadata": {},
   "source": [
    "*Функция для численного дифференцирования*"
   ]
  },
  {
   "cell_type": "code",
   "execution_count": 14,
   "metadata": {},
   "outputs": [
    {
     "data": {
      "text/latex": [
       "\\begin{align}\n",
       "f(x) \\space = \\space sin^2(x), \\space x\\in [-1.5,1.5]\n",
       "\\end{align}\n"
      ],
      "text/plain": [
       "<IPython.core.display.Latex object>"
      ]
     },
     "metadata": {},
     "output_type": "display_data"
    }
   ],
   "source": [
    "%%latex\n",
    "\\begin{align}\n",
    "f(x) \\space = \\space sin^2(x), \\space x\\in [-1.5,1.5]\n",
    "\\end{align}"
   ]
  },
  {
   "cell_type": "code",
   "execution_count": 15,
   "metadata": {},
   "outputs": [],
   "source": [
    "def f(x):\n",
    "    return sin(x) ** 2"
   ]
  },
  {
   "cell_type": "markdown",
   "metadata": {},
   "source": [
    "Используя правую и центральную разности вычислить производную в узлах сетки."
   ]
  },
  {
   "cell_type": "code",
   "execution_count": 16,
   "metadata": {},
   "outputs": [],
   "source": [
    "def get_interpolation_net(a,b, count):\n",
    "    return [a + (b - a) * i / count for i in range(count+1)]"
   ]
  },
  {
   "cell_type": "markdown",
   "metadata": {},
   "source": [
    "*Производная заданной функции взятая аналитически*"
   ]
  },
  {
   "cell_type": "code",
   "execution_count": 17,
   "metadata": {},
   "outputs": [
    {
     "data": {
      "text/latex": [
       "\\begin{align}\n",
       "\\frac{\\mathrm{d} f}{\\mathrm{d} x} \\space = \\space 2sin(x)cos(x)\n",
       "\\end{align}\n"
      ],
      "text/plain": [
       "<IPython.core.display.Latex object>"
      ]
     },
     "metadata": {},
     "output_type": "display_data"
    }
   ],
   "source": [
    "%%latex\n",
    "\\begin{align}\n",
    "\\frac{\\mathrm{d} f}{\\mathrm{d} x} \\space = \\space 2sin(x)cos(x)\n",
    "\\end{align}"
   ]
  },
  {
   "cell_type": "code",
   "execution_count": 18,
   "metadata": {},
   "outputs": [],
   "source": [
    "def analytic_derivative(x):\n",
    "    assert isinstance(x, float)\n",
    "    return 2*sin(x)*cos(x)\n",
    "\n",
    "def analytic_derivative_2(x):\n",
    "    assert isinstance(x, float)\n",
    "    return 2 * cos(2*x)"
   ]
  },
  {
   "cell_type": "markdown",
   "metadata": {},
   "source": [
    "**Численная производная вычисляется по формулам:**"
   ]
  },
  {
   "cell_type": "code",
   "execution_count": 19,
   "metadata": {},
   "outputs": [
    {
     "data": {
      "text/latex": [
       "\\begin{align}\n",
       "\\frac{\\mathrm{d} f_{i}}{\\mathrm{d} x} \\space = \\space \\frac{f_{i-1} + f_{i+1}}{2h}\\\\\n",
       "\\frac{\\mathrm{d} f_{i}}{\\mathrm{d} x} \\space = \\space \\frac{f_{i} + f_{i-11}}{h}\\\\\n",
       "\\frac{\\mathrm{d} f_{i}}{\\mathrm{d} x} \\space = \\space \\frac{f_{i+1} + f_{i}}{h}\\\\\n",
       "\n",
       "\\end{align}\n"
      ],
      "text/plain": [
       "<IPython.core.display.Latex object>"
      ]
     },
     "metadata": {},
     "output_type": "display_data"
    }
   ],
   "source": [
    "%%latex\n",
    "\\begin{align}\n",
    "\\frac{\\mathrm{d} f_{i}}{\\mathrm{d} x} \\space = \\space \\frac{f_{i-1} + f_{i+1}}{2h}\\\\\n",
    "\\frac{\\mathrm{d} f_{i}}{\\mathrm{d} x} \\space = \\space \\frac{f_{i} + f_{i-11}}{h}\\\\\n",
    "\\frac{\\mathrm{d} f_{i}}{\\mathrm{d} x} \\space = \\space \\frac{f_{i+1} + f_{i}}{h}\\\\\n",
    "\n",
    "\\end{align}"
   ]
  },
  {
   "cell_type": "code",
   "execution_count": 20,
   "metadata": {},
   "outputs": [],
   "source": [
    "class Cache:\n",
    "    def __init__(self, f, left, right):\n",
    "        assert(callable(f))\n",
    "        self.cache = {}\n",
    "        self.f = f\n",
    "        self.left = left\n",
    "        self.right = right\n",
    "        \n",
    "    def cached_func(self, arg):\n",
    "        try:\n",
    "            c = self.cache[arg]\n",
    "        except KeyError:\n",
    "            self.cache[arg] = self.f(arg)\n",
    "            \n",
    "class SecondPrecOrder(Cache):\n",
    "    def first_derive_right(self, x, h):\n",
    "        assert(isinstance(x, float))\n",
    "        assert(isinstance(h, float))\n",
    "        self.cached_func(x + h)\n",
    "        self.cached_func(x)\n",
    "        return (self.cache[x + h] - self.cache[x]) / h\n",
    "    \n",
    "    def first_derive(self, x, h):\n",
    "        assert(isinstance(x, float))\n",
    "        assert(isinstance(h, float))\n",
    "        if x == self.left:\n",
    "            return self.first_derive_right_sec(x, h)\n",
    "        elif x == self.right:\n",
    "            return self.first_derive_left_sec(x, h)\n",
    "        self.cached_func(x + h)\n",
    "        self.cached_func(x - h)\n",
    "        return (self.cache[x + h] - self.cache[x - h]) / 2 / h\n",
    "    \n",
    "    def first_derive_right_sec(self, x, h):\n",
    "        assert(isinstance(x, float))\n",
    "        assert(isinstance(h, float))\n",
    "        self.cached_func(x + h)\n",
    "        self.cached_func(x)\n",
    "        self.cached_func(x + 2 * h)\n",
    "        return (4 * self.cache[x + h] - 3 * self.cache[x] - self.cache[x + 2 * h]) / 2 / h\n",
    "    \n",
    "    def first_derive_left_sec(self, x, h):\n",
    "        assert(isinstance(x, float))\n",
    "        assert(isinstance(h, float))\n",
    "        self.cached_func(x - h)\n",
    "        self.cached_func(x)\n",
    "        self.cached_func(x - 2 * h)\n",
    "        return (-4 * self.cache[x - h] + 3 * self.cache[x] + self.cache[x - 2 * h]) / 2 / h\n",
    "    \n",
    "\n",
    "    def second_derive(self, x, h):\n",
    "        assert(isinstance(x, float))\n",
    "        assert(isinstance(h, float))\n",
    "        self.cached_func(x + h)\n",
    "        self.cached_func(x)\n",
    "        self.cached_func(x - h)\n",
    "        return (self.cache[x + h] - 2 * self.cache[x] +\n",
    "                self.cache[x - h]) / h ** 2\n",
    "    \n",
    "class FourthOrder(Cache): \n",
    "    def second_derive(self, x, h):\n",
    "        assert(isinstance(x, float))\n",
    "        assert(isinstance(h, float))\n",
    "        self.cached_func(x + 2 * h)\n",
    "        self.cached_func(x + h)\n",
    "        self.cached_func(x)\n",
    "        self.cached_func(x - h)\n",
    "        self.cached_func(x - 2 * h)\n",
    "        return (-1 * self.cache[x + 2 * h] + 16 *\n",
    "                self.cache[x + h] -30 * self.cache[x] + \n",
    "               16 * self.cache[x - h] - self.cache[x - 2 * h]) / 12 / h ** 2"
   ]
  },
  {
   "cell_type": "markdown",
   "metadata": {},
   "source": [
    "**Численная производная второго порядка вычисляется по формуле:**"
   ]
  },
  {
   "cell_type": "code",
   "execution_count": 21,
   "metadata": {},
   "outputs": [
    {
     "data": {
      "text/latex": [
       "\\begin{align}\n",
       "\\frac{\\mathrm{d^{2}}f_{i\\pm2} }{\\mathrm{d} x^{2}}\\space=\\space\\frac{f_{i+1} -2f_{i}+f{i-1}}{h^{2}} \\space + \\space O(h^{2})\\end{align}\n"
      ],
      "text/plain": [
       "<IPython.core.display.Latex object>"
      ]
     },
     "metadata": {},
     "output_type": "display_data"
    }
   ],
   "source": [
    "%%latex\n",
    "\\begin{align}\n",
    "\\frac{\\mathrm{d^{2}}f_{i\\pm2} }{\\mathrm{d} x^{2}}\\space=\\space\\frac{f_{i+1} -2f_{i}+f{i-1}}{h^{2}} \\space + \\space O(h^{2})\\end{align}"
   ]
  },
  {
   "cell_type": "code",
   "execution_count": 22,
   "metadata": {},
   "outputs": [],
   "source": [
    "def interp_net(a, b, h):\n",
    "    interp_net = get_interpolation_net(a, b, int((b - a) / h))\n",
    "    return interp_net \n",
    "def get_plot_data(a, b, h):\n",
    "    net = interp_net(a, b, h)\n",
    "    order_2 = SecondPrecOrder(f, a, b)\n",
    "    order_4 = FourthOrder(f, a, b)\n",
    "    return pd.DataFrame(data={\n",
    "        'x': net,\n",
    "        'f(x)': [f(x) for x in net],\n",
    "        \"f'(x) right\": [order_2.first_derive_right(x, h) for x in net],\n",
    "        \"f'(x)\": [order_2.first_derive(x, h) for x in net],\n",
    "        \"f'(x) analyt\": [analytic_derivative(x) for x in net],\n",
    "        \"f''(x) order 2\": [order_2.second_derive(x, h) for x in net],\n",
    "        \"f''(x) order 4\": [order_4.second_derive(x, h) for x in net],\n",
    "        \"f''(x) analyt\": [analytic_derivative_2(x) for x in net]\n",
    "    }, columns=['x', 'f(x)', \"f'(x) right\", \"f'(x)\", \"f'(x) analyt\", \"f''(x) order 2\", \"f''(x) order 4\", \"f''(x) analyt\"])\n",
    "\n",
    "from math import log\n",
    "def get_err_data(a, b, h_list):\n",
    "    order_2 = SecondPrecOrder(f, a, b)\n",
    "    order_4 = FourthOrder(f, a ,b)\n",
    "    err_right = [max([order_2.first_derive_right(x, h) - analytic_derivative(x) for x in interp_net(a, b, h)]) for h in h_list]\n",
    "    err_first = [max([order_2.first_derive(x, h) - analytic_derivative(x) for x in interp_net(a, b, h)]) for h in h_list]\n",
    "    err_second_2 = [max([order_2.second_derive(x, h) - analytic_derivative_2(x) for x in interp_net(a, b, h)]) for h in h_list]\n",
    "    err_second_4 = [max([order_4.second_derive(x, h) - analytic_derivative_2(x) for x in interp_net(a, b, h)]) for h in h_list]\n",
    "    return err_right, err_first, err_second_2, err_second_4\n",
    "h = [0.0001, 0.0005, 0.001, 0.0025, 0.005, 0.01, 0.05, 0.1, 0.2, 0.5]\n",
    "err_right, err_first, err_second_2, err_second_4 = get_err_data(-1.5, 1.5, h)\n",
    "err_right, err_first, err_second_2, err_second_4 = list(map(log, err_right)), list(map(log,err_first)), list(map(log,err_second_2)), list(map(log,err_second_4))\n",
    "h = list(map(log, h))"
   ]
  },
  {
   "cell_type": "code",
   "execution_count": 23,
   "metadata": {},
   "outputs": [
    {
     "name": "stdout",
     "output_type": "stream",
     "text": [
      "[-9.210340375309515, -7.600902542875416, -6.907755612315482, -5.991466630441749, -5.298325699888315, -4.6052035194325365, -2.9965656763427937, -2.305919538144487, -1.6161134906325563, -0.7771861922106832] [-18.826038527535463, -15.607268822017206, -14.220976149545926, -12.388395754277344, -11.002105158491773, -9.615867834583245, -6.397856149059153, -5.013061877141078, -3.64699961469095, -1.421200924633807] [-16.652782693079114, -15.609064560740691, -14.231119707479, -12.398449369713212, -11.012160608439507, -9.625876714255806, -6.407320899651977, -5.022026478954474, -3.639731161894828, -1.835110148048455] [-16.277909177256998, -19.68963364699221, -21.1433918345196, -22.838759324705176, -22.17109542347389, -19.46397761221091, -13.027953580411907, -10.258043193363733, -7.496164392067107, -3.9058183682664755]\n"
     ]
    },
    {
     "data": {
      "image/png": "[encoded data removed]",
      "text/plain": [
       "<Figure size 432x288 with 1 Axes>"
      ]
     },
     "metadata": {
      "needs_background": "light"
     },
     "output_type": "display_data"
    },
    {
     "data": {
      "image/png": "[encoded data removed]",
      "text/plain": [
       "<Figure size 432x288 with 1 Axes>"
      ]
     },
     "metadata": {
      "needs_background": "light"
     },
     "output_type": "display_data"
    },
    {
     "data": {
      "image/png": "[encoded data removed]",
      "text/plain": [
       "<Figure size 432x288 with 1 Axes>"
      ]
     },
     "metadata": {
      "needs_background": "light"
     },
     "output_type": "display_data"
    },
    {
     "data": {
      "image/png": "[encoded data removed]",
      "text/plain": [
       "<Figure size 432x288 with 1 Axes>"
      ]
     },
     "metadata": {
      "needs_background": "light"
     },
     "output_type": "display_data"
    }
   ],
   "source": [
    "print(err_right, err_first, err_second_2, err_second_4)\n",
    "plt.figure(1)\n",
    "plt.plot(\n",
    "    h,\n",
    "    err_right,\n",
    "    'b',\n",
    ")\n",
    "plt.title(\"f'(x) right\")\n",
    "plt.grid(True)\n",
    "plt.figure(2)\n",
    "plt.plot(\n",
    "    h,\n",
    "    err_first,\n",
    "    'b',\n",
    ")\n",
    "plt.title(\"f'(x) central\")\n",
    "plt.grid(True)\n",
    "plt.figure(3)\n",
    "plt.plot(\n",
    "    h,\n",
    "    err_second_2,\n",
    "    'b',\n",
    ")\n",
    "\n",
    "plt.title(\"f''(x) order 2\")\n",
    "plt.grid(True)\n",
    "plt.figure(4)\n",
    "plt.plot(\n",
    "    h,\n",
    "    err_second_4,\n",
    "    'b',\n",
    ")\n",
    "plt.title(\"f''(x) order 4\")\n",
    "plt.grid(True)\n",
    "# plt.figure(2)\n",
    "# plt.plot(\n",
    "#     normal_net_plot['x'],\n",
    "#     normal_net_plot['Ln'],\n",
    "#     'k',\n",
    "#     normal_net_inter['x'],\n",
    "#     normal_net_inter['Ln'],\n",
    "#     'bo'\n",
    "# )\n",
    "# plt.figure(4)\n",
    "# plt.plot(\n",
    "#     chebyshev_net_plot['x'],\n",
    "#     chebyshev_net_plot['Ln'],\n",
    "#     'k'\n",
    "# )"
   ]
  },
  {
   "cell_type": "code",
   "execution_count": null,
   "metadata": {},
   "outputs": [],
   "source": []
  },
  {
   "cell_type": "code",
   "execution_count": null,
   "metadata": {},
   "outputs": [],
   "source": []
  },
  {
   "cell_type": "code",
   "execution_count": null,
   "metadata": {},
   "outputs": [],
   "source": []
  },
  {
   "cell_type": "code",
   "execution_count": null,
   "metadata": {},
   "outputs": [],
   "source": []
  },
  {
   "cell_type": "code",
   "execution_count": null,
   "metadata": {},
   "outputs": [],
   "source": []
  },
  {
   "cell_type": "code",
   "execution_count": null,
   "metadata": {},
   "outputs": [],
   "source": []
  },
  {
   "cell_type": "code",
   "execution_count": null,
   "metadata": {},
   "outputs": [],
   "source": []
  },
  {
   "cell_type": "code",
   "execution_count": null,
   "metadata": {},
   "outputs": [],
   "source": []
  },
  {
   "cell_type": "code",
   "execution_count": null,
   "metadata": {},
   "outputs": [],
   "source": []
  }
 ],
 "metadata": {
  "kernelspec": {
   "display_name": "Python 3",
   "language": "python",
   "name": "python3"
  },
  "language_info": {
   "codemirror_mode": {
    "name": "ipython",
    "version": 3
   },
   "file_extension": ".py",
   "mimetype": "text/x-python",
   "name": "python",
   "nbconvert_exporter": "python",
   "pygments_lexer": "ipython3",
   "version": "3.6.6"
  }
 },
 "nbformat": 4,
 "nbformat_minor": 2
}
